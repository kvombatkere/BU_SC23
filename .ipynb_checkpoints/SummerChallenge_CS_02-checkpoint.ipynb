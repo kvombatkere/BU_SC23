{
 "cells": [
  {
   "cell_type": "markdown",
   "id": "30722238",
   "metadata": {},
   "source": [
    "## BU Summer Challenge 2: Computer Science\n",
    "### July 2023"
   ]
  },
  {
   "cell_type": "markdown",
   "id": "1dae8fa1",
   "metadata": {},
   "source": [
    "### Exploring UTF-8 Encodings and Control Characters\n",
    "1. Use the `chr` functions with 5 different numbers between 1 and 100, and print out their corresponding characters.\n",
    "2. Use the `ord` function with 5 different characters, and print out their corresponding encoded numbers.\n",
    "3. Try the `\\n` and `\\t` control characters with 2 different print statements each."
   ]
  },
  {
   "cell_type": "code",
   "execution_count": 10,
   "id": "c04e61a2",
   "metadata": {},
   "outputs": [
    {
     "data": {
      "text/plain": [
       "'#'"
      ]
     },
     "execution_count": 10,
     "metadata": {},
     "output_type": "execute_result"
    }
   ],
   "source": [
    "chr(35)"
   ]
  },
  {
   "cell_type": "code",
   "execution_count": 12,
   "id": "eb88760e",
   "metadata": {},
   "outputs": [
    {
     "data": {
      "text/plain": [
       "121"
      ]
     },
     "execution_count": 12,
     "metadata": {},
     "output_type": "execute_result"
    }
   ],
   "source": [
    "ord('y')"
   ]
  },
  {
   "cell_type": "code",
   "execution_count": 26,
   "id": "42e95f42",
   "metadata": {
    "scrolled": true
   },
   "outputs": [
    {
     "name": "stdout",
     "output_type": "stream",
     "text": [
      "abc \t def\n"
     ]
    }
   ],
   "source": [
    "print(\"abc \\t def\")"
   ]
  },
  {
   "cell_type": "code",
   "execution_count": null,
   "id": "a2380328",
   "metadata": {},
   "outputs": [],
   "source": []
  },
  {
   "cell_type": "markdown",
   "id": "36f500c5",
   "metadata": {},
   "source": [
    "### Calculate the Restaurant Tab\n",
    "We can write a simple program to calculate the tab at a restaurant, based on the items ordered from the menu and tax rate + service charge and also ask the customer about the tip amount and if they have a gift card.\n",
    "In this exercise, we will use the provided dictionary and code as a starter and then add code to complete the task as follows.\n",
    "1. First define variables for restaurant name, year, city and store them as variables\n",
    "2. Ask the customer to enter their name, then welcome the customer with a message.\n",
    "3. Get the customer's order - we assume the customer orders 3 dishes"
   ]
  },
  {
   "cell_type": "code",
   "execution_count": 42,
   "id": "8d09d143",
   "metadata": {},
   "outputs": [],
   "source": [
    "#This is a dictionary that stores the restaurant menu item prices\n",
    "restaurant_menu_prices = {\"cheeseburger\": 10, \"fries\": 5.5, \"pizza\": 14.5,\n",
    "                         \"chicken sandwich\": 12, \"falafel\": 8, \"fried rice\": 10.5,\n",
    "                         \"orange juice\": 4, \"coffee\": 3.5, \"tea\": 3.25,\n",
    "                         \"ice cream\": 5.5}\n",
    "\n",
    "# The tax rate is 8%\n",
    "tax_rate = 0.08\n",
    "\n",
    "# Service charge is 5%\n",
    "service_charge = 0.05"
   ]
  },
  {
   "cell_type": "code",
   "execution_count": 43,
   "id": "b224609f",
   "metadata": {},
   "outputs": [],
   "source": [
    "# Specify restaurant details\n",
    "restaurant_name = 'KV Cafe'\n",
    "restaurant_year_established = 2023\n",
    "restaurant_city = 'Boston, MA'"
   ]
  },
  {
   "cell_type": "code",
   "execution_count": 44,
   "id": "6653a582",
   "metadata": {},
   "outputs": [
    {
     "name": "stdout",
     "output_type": "stream",
     "text": [
      "Hello there! Please input your name so we can calculate your tab! kv\n"
     ]
    }
   ],
   "source": [
    "# Get customer name\n",
    "customer_name = input(\"Hello there! Please input your name so we can calculate your tab! \")"
   ]
  },
  {
   "cell_type": "code",
   "execution_count": 59,
   "id": "cf1ad487",
   "metadata": {},
   "outputs": [
    {
     "name": "stdout",
     "output_type": "stream",
     "text": [
      "Hello kv!\n",
      "Welcome to KV Cafe, established in 2023 in Boston, MA\n",
      "------------------------------------------------------------\n",
      "what is the first item you ordered? s\n",
      "what is the second item you ordered? s\n",
      "what is the third item you ordered? s\n",
      "what is the fourth item you ordered? s\n",
      "------------------------------------------------------------\n"
     ]
    }
   ],
   "source": [
    "# Display welcome message\n",
    "print(\"Hello {}!\\nWelcome to {}, established in {} in {}\".format(customer_name,\n",
    "                                                                restaurant_name,\n",
    "                                                                restaurant_year_established,\n",
    "                                                                restaurant_city))\n",
    "print(\"--\" *30)\n",
    "\n",
    "#Get the customer's order\n",
    "item_1 = input(\"what is the first item you ordered? \")\n",
    "item_2 = input(\"what is the second item you ordered? \")\n",
    "item_3 = input(\"what is the third item you ordered? \")\n",
    "item_4 = input(\"what is the fourth item you ordered? \")\n",
    "\n",
    "print(\"--\" *30)\n",
    "\n",
    "#Ask if the customer has a gift card\n",
    "gift_card_amount = ...\n",
    "\n",
    "#Ask if the customer would like to add a tip amount\n",
    "tip_amount = ..."
   ]
  },
  {
   "cell_type": "code",
   "execution_count": 57,
   "id": "0d174214",
   "metadata": {},
   "outputs": [
    {
     "name": "stdout",
     "output_type": "stream",
     "text": [
      "kv ordered the following items: ['fries', 'fries', 'fries', 'fries']\n"
     ]
    }
   ],
   "source": [
    "#Store the customer's order as a list\n",
    "customer_order = [item_1, item_2, item_3, item_4]\n",
    "print(\"{} ordered the following items: {}\".format(customer_name, customer_order))"
   ]
  },
  {
   "cell_type": "code",
   "execution_count": 58,
   "id": "ad4fb9b4",
   "metadata": {},
   "outputs": [
    {
     "name": "stdout",
     "output_type": "stream",
     "text": [
      "Added fries to your tab!\n",
      "Added fries to your tab!\n",
      "Added fries to your tab!\n",
      "Added fries to your tab!\n",
      "The total value of all ordered items is 22.0\n"
     ]
    }
   ],
   "source": [
    "#Initialize order total value to 0\n",
    "order_total = 0\n",
    "\n",
    "#Loop over each menu item in the customer's order\n",
    "for menu_item in customer_order:\n",
    "    \n",
    "    #Check if the item is in the restaurant's menu\n",
    "    if menu_item in restaurant_menu_prices.keys():\n",
    "        order_total = order_total + restaurant_menu_prices[menu_item] #Update the order total\n",
    "        print(\"Added {} to your tab!\".format(menu_item))\n",
    "    \n",
    "    #Print out the error message if the menu item doesn't exist\n",
    "    else:\n",
    "        print(\"Error: The item: {} is not on the menu!\".format(menu_item))\n",
    "        \n",
    "        \n",
    "print(\"The total value of all ordered items is {}\".format(order_total))"
   ]
  },
  {
   "cell_type": "markdown",
   "id": "e7db6e92",
   "metadata": {},
   "source": [
    "#### 1. Compute the final amount the customer owes\n",
    "The final amount the customer owes is the total value of their menu items + the percentage amounts of tax and service charge added. Once you add the gift card and tip amounts, you also need to factor those into the total amount owed."
   ]
  },
  {
   "cell_type": "code",
   "execution_count": 62,
   "id": "95d5e65d",
   "metadata": {},
   "outputs": [
    {
     "name": "stdout",
     "output_type": "stream",
     "text": [
      "Your total restaurant tab amount is 0\n",
      "Thank you for visiting KV Cafe, we hope you enjoyed your meal!\n"
     ]
    }
   ],
   "source": [
    "# Add code here to calculate the tab total\n",
    "tab_total = 0 \n",
    "\n",
    "print(\"Your total restaurant tab amount is {}\".format(tab_total))\n",
    "print(\"Thank you for visiting {}, we hope you enjoyed your meal!\".format(restaurant_name))"
   ]
  },
  {
   "cell_type": "code",
   "execution_count": null,
   "id": "cd107200",
   "metadata": {},
   "outputs": [],
   "source": []
  },
  {
   "cell_type": "code",
   "execution_count": null,
   "id": "61f540c8",
   "metadata": {},
   "outputs": [],
   "source": []
  },
  {
   "cell_type": "markdown",
   "id": "3df8a6bd",
   "metadata": {},
   "source": [
    "#### 2. Display an itemized receipt with all the different amounts on the tab."
   ]
  },
  {
   "cell_type": "code",
   "execution_count": null,
   "id": "826a072c",
   "metadata": {},
   "outputs": [],
   "source": []
  },
  {
   "cell_type": "code",
   "execution_count": null,
   "id": "dddcbd01",
   "metadata": {},
   "outputs": [],
   "source": []
  }
 ],
 "metadata": {
  "kernelspec": {
   "display_name": "Python 3 (ipykernel)",
   "language": "python",
   "name": "python3"
  },
  "language_info": {
   "codemirror_mode": {
    "name": "ipython",
    "version": 3
   },
   "file_extension": ".py",
   "mimetype": "text/x-python",
   "name": "python",
   "nbconvert_exporter": "python",
   "pygments_lexer": "ipython3",
   "version": "3.9.16"
  }
 },
 "nbformat": 4,
 "nbformat_minor": 5
}
