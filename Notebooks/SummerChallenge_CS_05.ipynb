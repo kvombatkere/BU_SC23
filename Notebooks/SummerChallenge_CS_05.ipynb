{
 "cells": [
  {
   "cell_type": "markdown",
   "id": "30722238",
   "metadata": {},
   "source": [
    "## BU Summer Challenge: Computer Science\n",
    "### Notebook 05, July 2023"
   ]
  },
  {
   "cell_type": "code",
   "execution_count": null,
   "id": "f4535a27",
   "metadata": {},
   "outputs": [],
   "source": [
    "#Import libraries\n",
    "from sklearn.cluster import KMeans\n",
    "from sklearn.datasets import load_digits\n",
    "import numpy as np\n",
    "import matplotlib.pyplot as plt"
   ]
  },
  {
   "cell_type": "markdown",
   "id": "77dc4396",
   "metadata": {},
   "source": [
    "## Artificial Intelligence and Machine Learning\n",
    "\n",
    "### Classification vs. Clustering\n",
    "Classification and clustering are two methods of pattern identification used in machine learning. Although both techniques have certain similarities, the difference lies in the fact that classification uses predefined classes in which objects are assigned, while clustering identifies similarities between objects, which it groups according to those characteristics in common and which differentiate them from other groups of objects. These groups are known as \"clusters\"."
   ]
  },
  {
   "cell_type": "markdown",
   "id": "cb9da752",
   "metadata": {},
   "source": [
    "### Clustering Algorithms\n",
    "1. KMeans Clustering\n",
    "2. DBScan Clustering"
   ]
  },
  {
   "cell_type": "code",
   "execution_count": null,
   "id": "8daf347d",
   "metadata": {},
   "outputs": [],
   "source": [
    "mnist = load_digits()\n",
    "print(mnist.keys())\n",
    "\n",
    "#Plot a sample mnist image\n",
    "image = mnist.images[0]\n",
    "fig = plt.figure(figsize=(3,3))\n",
    "plt.imshow(image)\n",
    "plt.show()"
   ]
  },
  {
   "cell_type": "code",
   "execution_count": null,
   "id": "5d896a9b",
   "metadata": {},
   "outputs": [],
   "source": [
    "#Import MNIST data and perform KMeans\n",
    "X = mnist.data\n",
    "print(X.shape, type(X))"
   ]
  },
  {
   "cell_type": "code",
   "execution_count": null,
   "id": "ea5602cc",
   "metadata": {},
   "outputs": [],
   "source": [
    "#Perform K-means\n",
    "kmeans = KMeans(n_clusters=10, random_state=0, n_init=10)\n",
    "kmeans.fit(X)"
   ]
  },
  {
   "cell_type": "code",
   "execution_count": null,
   "id": "f526f25c",
   "metadata": {},
   "outputs": [],
   "source": [
    "#Reshape each centroid to 8,8 image and plot\n",
    "clusterCenters = [np.reshape(c, (8,8)) for c in kmeans.cluster_centers_]\n",
    "\n",
    "#Plot cluster centers\n",
    "num_row = 2\n",
    "num_col = 5\n",
    "# plot images\n",
    "fig, axes = plt.subplots(num_row, num_col, figsize=(2*num_col,2.5*num_row))\n",
    "for i in range(len(clusterCenters)):\n",
    "    ax = axes[i//num_col, i%num_col]\n",
    "    ax.imshow(clusterCenters[i])\n",
    "plt.tight_layout()\n",
    "plt.show()"
   ]
  },
  {
   "cell_type": "markdown",
   "id": "38b8130c",
   "metadata": {},
   "source": [
    "### DBScan Clustering Algorithm\n",
    "We will run code to see how the density based clustering algorithm works."
   ]
  },
  {
   "cell_type": "code",
   "execution_count": null,
   "id": "e1789493",
   "metadata": {},
   "outputs": [],
   "source": [
    "from PIL import Image as im\n",
    "import sklearn.datasets as datasets\n",
    "\n",
    "TEMPFILE = 'temp.png'\n",
    "\n",
    "class DBC():\n",
    "\n",
    "    def __init__(self, dataset, min_pts, epsilon):\n",
    "        self.dataset = dataset\n",
    "        self.min_pts = min_pts \n",
    "        self.epsilon = epsilon\n",
    "        self.snaps = []\n",
    "        self.assignments = [0 for _ in range(len(self.dataset))]\n",
    "\n",
    "\n",
    "    def snapshot(self, pt_index):\n",
    "        fig, ax = plt.subplots()\n",
    "        colors = np.array([x for x in 'bgrcmykbgrcmykbgrcmykbgrcmyk'])\n",
    "        colors = np.hstack([colors] * 30)\n",
    "\n",
    "        ax.scatter(self.dataset[:, 0], self.dataset[:, 1], color=colors[self.assignments].tolist(), s=10, alpha=0.8)\n",
    "\n",
    "        circle_coordinates = self.dataset[pt_index]\n",
    "        cir = plt.Circle(circle_coordinates, radius=0.2, fill=False, color='black') # create circle around the point assigned\n",
    "\n",
    "        ax.add_patch(cir)\n",
    "        ax.set_xlim(-2,2)\n",
    "        ax.set_ylim(-0.2,1.5)\n",
    "        ax.set_aspect('equal') # necessary or else the circles appear to be oval shaped\n",
    "\n",
    "        fig.savefig(TEMPFILE)\n",
    "        plt.close()\n",
    "\n",
    "        self.snaps.append(im.fromarray(np.asarray(im.open(TEMPFILE))))\n",
    "        return \n",
    "\n",
    "\n",
    "    def get_unlabeled_neighbors(self, i):\n",
    "        \"\"\"\n",
    "        Get only the unlabeled neighbors of point i, that aren't i itself\n",
    "        \"\"\"\n",
    "        neighbors = []\n",
    "        \n",
    "        for j in range(len(self.dataset)):\n",
    "            if i != j and \\\n",
    "            (np.linalg.norm(self.dataset[i] - self.dataset[j]) <= self.epsilon) and (self.assignments[j]==0):\n",
    "                neighbors.append(j)\n",
    "                \n",
    "        return neighbors\n",
    "        \n",
    "    \n",
    "    def is_core(self, i):\n",
    "        \"\"\"\n",
    "        Check if the i^th point is a core point - exclude point itself\n",
    "        \"\"\"\n",
    "        neighbors = []\n",
    "        #Get all neighbors\n",
    "        for j in range(len(self.dataset)):\n",
    "            if i != j and (np.linalg.norm(self.dataset[i] - self.dataset[j]) <= self.epsilon):\n",
    "                neighbors.append(j)\n",
    "            \n",
    "        return len(neighbors) >= self.min_pts\n",
    "    \n",
    "    \n",
    "    def dfs_assignment(self, i, cluster_num):\n",
    "        \"\"\"\n",
    "        Assign the points to clusters after doing dfs\n",
    "        \"\"\"\n",
    "        #self.assignments[i] = cluster_num\n",
    "        \n",
    "        neighbors = self.get_unlabeled_neighbors(i) #should return a list of indexes\n",
    "        \n",
    "        while neighbors:\n",
    "            next_candidate = neighbors.pop()\n",
    "            if self.assignments[next_candidate] != 0:\n",
    "                print(\"This shouldn't happen, Help!\")\n",
    "                continue\n",
    "            \n",
    "            self.assignments[next_candidate] = cluster_num\n",
    "            self.snapshot(next_candidate)\n",
    "            \n",
    "            if self.is_core(next_candidate):\n",
    "                #Add only neighbors that aren't already there\n",
    "                new_neighbors = self.get_unlabeled_neighbors(next_candidate)\n",
    "                for indx in new_neighbors:\n",
    "                    if indx not in neighbors:\n",
    "                        neighbors.append(indx)\n",
    "        \n",
    "        return\n",
    "    \n",
    "    \n",
    "    def dbscan(self):\n",
    "        \"\"\"\n",
    "        returns a list of assignments. The index of the\n",
    "        assignment should match the index of the data point\n",
    "        in the dataset.\n",
    "        \"\"\"\n",
    "        cluster_num = 1\n",
    "        \n",
    "        for i, p in enumerate(self.dataset):\n",
    "            #print(i)\n",
    "            if self.assignments[i] != 0:\n",
    "                #already assigned to a cluster\n",
    "                continue\n",
    "            \n",
    "            if self.is_core(i):\n",
    "                self.dfs_assignment(i, cluster_num)\n",
    "            \n",
    "            else: #label noise points with a separate number/color - we use black\n",
    "                self.assignments[i] = 6\n",
    "                \n",
    "            #Move to next cluster\n",
    "            cluster_num += 1\n",
    "        \n",
    "        return self.assignments\n",
    "\n"
   ]
  },
  {
   "cell_type": "code",
   "execution_count": null,
   "id": "2744d84a",
   "metadata": {},
   "outputs": [],
   "source": [
    "#Create for face blob\n",
    "centers = [[-0.9,1.1], [0.9,1.1]]\n",
    "eyes, _ = datasets.make_blobs(n_samples=500, centers=centers, cluster_std=0.13,\n",
    "                            random_state=0)\n",
    "\n",
    "mouth_x = np.random.uniform(-1.8,1.8,300)\n",
    "mouth_y = 0.2*mouth_x**2 + (np.random.uniform(-0.1,0.1, 300))\n",
    "\n",
    "face = np.append(eyes, list(zip(mouth_x, mouth_y)), axis=0)\n",
    "\n",
    "#See face plot\n",
    "plt.scatter(face[:,0],face[:,1],s=10, alpha=0.8)"
   ]
  },
  {
   "cell_type": "code",
   "execution_count": null,
   "id": "88a81d5f",
   "metadata": {},
   "outputs": [],
   "source": [
    "#Run and plot results on for smiley\n",
    "DBScanClustering_2 = DBC(face, 3, .2)\n",
    "clustering_2 = DBScanClustering_2.dbscan()\n",
    "\n",
    "colors = np.array([x for x in 'bgrcmykbgrcmykbgrcmykbgrcmyk'])\n",
    "colors = np.hstack([colors] * 30)\n",
    "plt.scatter(face[:, 0], face[:, 1], color=colors[clustering_2].tolist(), s=10, alpha=0.8)\n",
    "plt.show()\n",
    "\n",
    "\n",
    "#Save as gif file\n",
    "DBScanClustering_2.snaps[0].save(\n",
    "    'dbscan_smile.gif',\n",
    "    optimize=False,\n",
    "    save_all=True,\n",
    "    append_images=DBScanClustering_2.snaps[1:],\n",
    "    loop=0,\n",
    "    duration=25\n",
    ")"
   ]
  },
  {
   "cell_type": "code",
   "execution_count": null,
   "id": "2d52443e",
   "metadata": {},
   "outputs": [],
   "source": [
    "#View the gif\n",
    "from IPython.display import Image\n",
    "Image(filename=\"dbscan_smile.gif\", width=500, height=500)"
   ]
  },
  {
   "cell_type": "code",
   "execution_count": null,
   "id": "4f59ea4b",
   "metadata": {},
   "outputs": [],
   "source": []
  },
  {
   "cell_type": "code",
   "execution_count": null,
   "id": "fb5118cb",
   "metadata": {},
   "outputs": [],
   "source": []
  },
  {
   "cell_type": "code",
   "execution_count": null,
   "id": "76b160ad",
   "metadata": {},
   "outputs": [],
   "source": []
  }
 ],
 "metadata": {
  "kernelspec": {
   "display_name": "Python 3 (ipykernel)",
   "language": "python",
   "name": "python3"
  },
  "language_info": {
   "codemirror_mode": {
    "name": "ipython",
    "version": 3
   },
   "file_extension": ".py",
   "mimetype": "text/x-python",
   "name": "python",
   "nbconvert_exporter": "python",
   "pygments_lexer": "ipython3",
   "version": "3.9.16"
  }
 },
 "nbformat": 4,
 "nbformat_minor": 5
}
