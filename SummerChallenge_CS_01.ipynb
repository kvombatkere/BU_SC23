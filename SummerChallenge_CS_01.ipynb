{
 "cells": [
  {
   "cell_type": "markdown",
   "id": "30722238",
   "metadata": {},
   "source": [
    "### BU Summer Challenge 2: Computer Science\n",
    "### July 2023"
   ]
  },
  {
   "cell_type": "code",
   "execution_count": null,
   "id": "c04e61a2",
   "metadata": {},
   "outputs": [],
   "source": [
    "print(\"Hello World!\")"
   ]
  },
  {
   "cell_type": "markdown",
   "id": "1dae8fa1",
   "metadata": {},
   "source": [
    "### Data Types and Variables in Python\n",
    "1. A variable is simply a container for storing a data value.\n",
    "2. Python has several data types: we will focus on the following data types. \n",
    "    - `int`: This is a data type used to represent integer information\n",
    "    - `string`: String data types represent characters\n",
    "    - `float`: Represent decimal values\n",
    "3. Python can automatically infer the data type based on the input. We can also specify the data types explicitly.\n",
    "4. The data type of a variable can be accessed using the `type()` command."
   ]
  },
  {
   "cell_type": "markdown",
   "id": "36f500c5",
   "metadata": {},
   "source": [
    "#### Here is one way of specifying variables with their data types"
   ]
  },
  {
   "cell_type": "code",
   "execution_count": null,
   "id": "b224609f",
   "metadata": {},
   "outputs": [],
   "source": [
    "my_name = str('Karan Vombatkere')\n",
    "my_age = int(28)\n",
    "temp = float(73.2)"
   ]
  },
  {
   "cell_type": "code",
   "execution_count": null,
   "id": "cf1ad487",
   "metadata": {},
   "outputs": [],
   "source": [
    "print(\"Hello there!\\nMy name is: {}\\nMy Age is {}\\nThe temperature is {} degrees\".format(my_name,\n",
    "                                                                      my_age,\n",
    "                                                                      temp))"
   ]
  },
  {
   "cell_type": "markdown",
   "id": "3df8a6bd",
   "metadata": {},
   "source": [
    "#### Python can also directly infer the data type based on the input provided"
   ]
  },
  {
   "cell_type": "code",
   "execution_count": null,
   "id": "27a6b392",
   "metadata": {},
   "outputs": [],
   "source": [
    "my_name_2 = 'Karan Vombatkere'\n",
    "my_age_2 = 28\n",
    "temp_2 = 74.5"
   ]
  },
  {
   "cell_type": "code",
   "execution_count": null,
   "id": "72bdcb0c",
   "metadata": {},
   "outputs": [],
   "source": [
    "print(\"Hello there!\\nMy name is: {}\\nMy Age is {}\\nThe temperature is {} degrees\".format(my_name_2,\n",
    "                                                                      my_age_2,\n",
    "                                                                      temp_2))"
   ]
  },
  {
   "cell_type": "code",
   "execution_count": null,
   "id": "602b97a8",
   "metadata": {},
   "outputs": [],
   "source": [
    "type(my_name)"
   ]
  },
  {
   "cell_type": "code",
   "execution_count": null,
   "id": "703bbb10",
   "metadata": {},
   "outputs": [],
   "source": [
    "print(type(my_age), type(temp))"
   ]
  },
  {
   "cell_type": "markdown",
   "id": "0af4427c",
   "metadata": {},
   "source": [
    "### Operations on Variables"
   ]
  },
  {
   "cell_type": "code",
   "execution_count": null,
   "id": "a581661c",
   "metadata": {},
   "outputs": [],
   "source": [
    "my_name == my_name_2"
   ]
  },
  {
   "cell_type": "code",
   "execution_count": null,
   "id": "9981f816",
   "metadata": {},
   "outputs": [],
   "source": [
    "temp == temp_2"
   ]
  },
  {
   "cell_type": "code",
   "execution_count": null,
   "id": "aff00b57",
   "metadata": {},
   "outputs": [],
   "source": [
    "my_age*2 + 4"
   ]
  },
  {
   "cell_type": "code",
   "execution_count": null,
   "id": "5c12335a",
   "metadata": {},
   "outputs": [],
   "source": [
    "print(\"The variable my_age has type\", type(my_age))\n",
    "print(\"The variable my_name has type\", type(my_name))"
   ]
  },
  {
   "cell_type": "code",
   "execution_count": null,
   "id": "aa2c166a",
   "metadata": {},
   "outputs": [],
   "source": [
    "# The '#' symbol can be used to add helpful comments to code\n",
    "# a and b are integer variables\n",
    "a = 42 \n",
    "b = 37\n",
    "\n",
    "c = a+b\n",
    "\n",
    "print(\"a={}, b={}\".format(a,b))\n",
    "print(\"{} + {} = {}\".format(a,b,c))"
   ]
  },
  {
   "cell_type": "code",
   "execution_count": null,
   "id": "8b46ee7d",
   "metadata": {},
   "outputs": [],
   "source": [
    "type(c)"
   ]
  },
  {
   "cell_type": "code",
   "execution_count": null,
   "id": "75acd8b3",
   "metadata": {},
   "outputs": [],
   "source": [
    "d = 45.3\n",
    "e = 23\n",
    "type(e+d)"
   ]
  },
  {
   "cell_type": "markdown",
   "id": "e19ce44e",
   "metadata": {},
   "source": [
    "### Exercise - Data Types and Variables\n",
    "1. Create three variables named `school_name`, `class_year` and `gpa` and store values in them\n",
    "2. Print out these 3 variables and their types\n",
    "3. Create 3 variable `v1, v2, v3` and store `float` values in them\n",
    "4. Calculate `v4 = v1 + v2 - v3`, and print the result"
   ]
  },
  {
   "cell_type": "code",
   "execution_count": null,
   "id": "f5c9e1b4",
   "metadata": {},
   "outputs": [],
   "source": []
  },
  {
   "cell_type": "code",
   "execution_count": null,
   "id": "563d0990",
   "metadata": {},
   "outputs": [],
   "source": []
  },
  {
   "cell_type": "code",
   "execution_count": null,
   "id": "70e6f27b",
   "metadata": {},
   "outputs": [],
   "source": []
  },
  {
   "cell_type": "markdown",
   "id": "3b23b42c",
   "metadata": {},
   "source": [
    "### Lists and Tuples\n",
    "- We will learn how to create lists in Python\n",
    "    - Python lists can have any data types, and can also be a mix of data types or have lists within!\n",
    "- The `len` command can be used to calculate the length (or number of elements) in a list\n",
    "- The `append` command can be used to add items to the end of a list - this is done in place\n",
    "- The `reverse` command can be used to reverse a list - this is done in place\n",
    "- Items in a list can be accessed using their index\n",
    "    - Python is 0 indexed! This means that the first element in a list has index = 0"
   ]
  },
  {
   "cell_type": "code",
   "execution_count": null,
   "id": "adea42ae",
   "metadata": {},
   "outputs": [],
   "source": [
    "item_list = ['Dog', 'Leaf', 'Tree', 'Cat', 'Airplane']\n",
    "print(item_list)"
   ]
  },
  {
   "cell_type": "code",
   "execution_count": null,
   "id": "8481ac06",
   "metadata": {},
   "outputs": [],
   "source": [
    "print(\"The list has {} items\".format(len(item_list)))"
   ]
  },
  {
   "cell_type": "code",
   "execution_count": null,
   "id": "cbe799f2",
   "metadata": {},
   "outputs": [],
   "source": [
    "b = sorted(item_list)\n",
    "print(b)"
   ]
  },
  {
   "cell_type": "code",
   "execution_count": null,
   "id": "f16c900f",
   "metadata": {},
   "outputs": [],
   "source": [
    "mixed_list = [3, 25, 47, item_list, 45]\n",
    "print(mixed_list)"
   ]
  },
  {
   "cell_type": "code",
   "execution_count": null,
   "id": "a326fe7d",
   "metadata": {},
   "outputs": [],
   "source": [
    "mixed_list.append(12)\n",
    "mixed_list.append('Boston University')"
   ]
  },
  {
   "cell_type": "code",
   "execution_count": null,
   "id": "b04ed0d1",
   "metadata": {},
   "outputs": [],
   "source": [
    "mixed_list"
   ]
  },
  {
   "cell_type": "code",
   "execution_count": null,
   "id": "c8adbdbd",
   "metadata": {},
   "outputs": [],
   "source": [
    "mixed_list[0]"
   ]
  },
  {
   "cell_type": "code",
   "execution_count": null,
   "id": "32c3edd6",
   "metadata": {},
   "outputs": [],
   "source": [
    "mixed_list[3]"
   ]
  },
  {
   "cell_type": "code",
   "execution_count": null,
   "id": "a5693992",
   "metadata": {},
   "outputs": [],
   "source": [
    "mixed_list[0:2]"
   ]
  },
  {
   "cell_type": "code",
   "execution_count": null,
   "id": "5d737aab",
   "metadata": {},
   "outputs": [],
   "source": [
    "mixed_list.reverse()"
   ]
  },
  {
   "cell_type": "code",
   "execution_count": null,
   "id": "6ff2cb91",
   "metadata": {},
   "outputs": [],
   "source": [
    "mixed_list"
   ]
  },
  {
   "cell_type": "code",
   "execution_count": null,
   "id": "387d9b9b",
   "metadata": {},
   "outputs": [],
   "source": [
    "mixed_list[3].reverse()"
   ]
  },
  {
   "cell_type": "code",
   "execution_count": null,
   "id": "9847170d",
   "metadata": {},
   "outputs": [],
   "source": [
    "mixed_list"
   ]
  },
  {
   "cell_type": "markdown",
   "id": "ba92d8cb",
   "metadata": {},
   "source": [
    "### Exercise - Python Lists\n",
    "- Create a list named `foods` with 7 of your favorite foods, and print out the list of foods.\n",
    "- Create a new list `sorted_foods` which stores the foods sorted in alphabetic order.\n",
    "- Reverse the order of the new lists and print out the first 3 foods only (using indices to subset)."
   ]
  },
  {
   "cell_type": "code",
   "execution_count": null,
   "id": "4fee4604",
   "metadata": {},
   "outputs": [],
   "source": []
  },
  {
   "cell_type": "code",
   "execution_count": null,
   "id": "106e5b97",
   "metadata": {},
   "outputs": [],
   "source": []
  },
  {
   "cell_type": "code",
   "execution_count": null,
   "id": "4e8e4b60",
   "metadata": {},
   "outputs": [],
   "source": []
  },
  {
   "cell_type": "markdown",
   "id": "2fdc5d84",
   "metadata": {},
   "source": [
    "### Dictionaries\n",
    "- Dictionaries are an easy way to store `key-value` pairs, where the key is a unique element that has a value stored under it.\n",
    "- Python allows keys and values to be mixed data types."
   ]
  },
  {
   "cell_type": "code",
   "execution_count": null,
   "id": "f4e1164e",
   "metadata": {},
   "outputs": [],
   "source": [
    "my_dict = {}\n",
    "my_dict['apples'] = 2\n",
    "my_dict['bananas'] = 4\n",
    "\n",
    "print(my_dict)"
   ]
  },
  {
   "cell_type": "code",
   "execution_count": null,
   "id": "e9da7937",
   "metadata": {},
   "outputs": [],
   "source": [
    "my_dict['apples'] += 5\n",
    "my_dict"
   ]
  },
  {
   "cell_type": "code",
   "execution_count": null,
   "id": "19916afb",
   "metadata": {},
   "outputs": [],
   "source": [
    "#Use a for loop to iterate over items in mixed_list[2]\n",
    "for item in mixed_list[3]:\n",
    "    print(item)\n",
    "    my_dict[item] = 20"
   ]
  },
  {
   "cell_type": "code",
   "execution_count": null,
   "id": "f9887579",
   "metadata": {},
   "outputs": [],
   "source": [
    "my_dict"
   ]
  },
  {
   "cell_type": "code",
   "execution_count": null,
   "id": "9946e9f3",
   "metadata": {},
   "outputs": [],
   "source": [
    "#Can access the keys directly\n",
    "my_dict.keys()"
   ]
  },
  {
   "cell_type": "code",
   "execution_count": null,
   "id": "87e792f2",
   "metadata": {},
   "outputs": [],
   "source": [
    "#Can access the values directly\n",
    "my_dict.values()"
   ]
  },
  {
   "cell_type": "markdown",
   "id": "feabf04e",
   "metadata": {},
   "source": [
    "### Exercise - Dictionaries\n",
    "1. Create a dictionary named `sports` and create 5 key-value pairs where a sport is the key and your rating (between 1-10) is the value for each sport.\n",
    "2. Print out the dictionary and create a new variable `score_add` and store the value 2 in this variable\n",
    "3. Using a for loop increase the rating of each sport by `score_add`. Print out the dictionary"
   ]
  },
  {
   "cell_type": "code",
   "execution_count": null,
   "id": "9bf5c3cb",
   "metadata": {},
   "outputs": [],
   "source": []
  },
  {
   "cell_type": "code",
   "execution_count": null,
   "id": "7ab97472",
   "metadata": {},
   "outputs": [],
   "source": []
  },
  {
   "cell_type": "code",
   "execution_count": null,
   "id": "f7f62bf1",
   "metadata": {},
   "outputs": [],
   "source": []
  },
  {
   "cell_type": "markdown",
   "id": "4332a055",
   "metadata": {},
   "source": [
    "### Get User Input\n",
    "- The `input` command can be used to get user input, and this input data can be stored in a variable"
   ]
  },
  {
   "cell_type": "code",
   "execution_count": null,
   "id": "3244caae",
   "metadata": {},
   "outputs": [],
   "source": [
    "name_var = input(\"what is your name? \")"
   ]
  },
  {
   "cell_type": "code",
   "execution_count": null,
   "id": "dcc699b8",
   "metadata": {},
   "outputs": [],
   "source": [
    "name_var"
   ]
  },
  {
   "cell_type": "code",
   "execution_count": null,
   "id": "bab22e70",
   "metadata": {},
   "outputs": [],
   "source": [
    "print(\"My name is {}\".format(name_var))"
   ]
  },
  {
   "cell_type": "code",
   "execution_count": null,
   "id": "b14bade6",
   "metadata": {},
   "outputs": [],
   "source": []
  },
  {
   "cell_type": "markdown",
   "id": "59b48562",
   "metadata": {},
   "source": [
    "### Libraries in Python\n",
    "Python has several inbuilt libraries that can be used for different applications. We import libraries using the `import` command."
   ]
  },
  {
   "cell_type": "code",
   "execution_count": null,
   "id": "ada4e90b",
   "metadata": {},
   "outputs": [],
   "source": [
    "## Importing Libraries - we will use these libraries\n",
    "import numpy as np\n",
    "import matplotlib.pyplot as plt\n",
    "import time"
   ]
  },
  {
   "cell_type": "code",
   "execution_count": null,
   "id": "826a072c",
   "metadata": {},
   "outputs": [],
   "source": []
  }
 ],
 "metadata": {
  "kernelspec": {
   "display_name": "Python 3 (ipykernel)",
   "language": "python",
   "name": "python3"
  },
  "language_info": {
   "codemirror_mode": {
    "name": "ipython",
    "version": 3
   },
   "file_extension": ".py",
   "mimetype": "text/x-python",
   "name": "python",
   "nbconvert_exporter": "python",
   "pygments_lexer": "ipython3",
   "version": "3.9.16"
  }
 },
 "nbformat": 4,
 "nbformat_minor": 5
}
